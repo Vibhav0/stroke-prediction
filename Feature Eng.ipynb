{
 "cells": [
  {
   "cell_type": "code",
   "execution_count": 1,
   "id": "036c4f59",
   "metadata": {},
   "outputs": [],
   "source": [
    "import pandas as pd \n",
    "import numpy as np\n",
    "from sklearn.model_selection import train_test_split\n",
    "import seaborn as sns\n",
    "sns.set_style(\"darkgrid\")\n",
    "import matplotlib.pyplot as plt\n",
    "%matplotlib inline\n",
    "from sklearn.preprocessing import StandardScaler\n",
    "from imblearn.combine import SMOTETomek\n",
    "from sklearn.model_selection import train_test_split\n",
    "from sklearn.neighbors import KNeighborsClassifier\n",
    "from sklearn.metrics import confusion_matrix,accuracy_score,classification_report,mean_squared_error\n",
    "from sklearn.model_selection import cross_val_score\n",
    "from sklearn.pipeline import Pipeline\n",
    "import pickle"
   ]
  },
  {
   "cell_type": "code",
   "execution_count": 2,
   "id": "3ff78e1f",
   "metadata": {
    "scrolled": false
   },
   "outputs": [
    {
     "data": {
      "text/html": [
       "<div>\n",
       "<style scoped>\n",
       "    .dataframe tbody tr th:only-of-type {\n",
       "        vertical-align: middle;\n",
       "    }\n",
       "\n",
       "    .dataframe tbody tr th {\n",
       "        vertical-align: top;\n",
       "    }\n",
       "\n",
       "    .dataframe thead th {\n",
       "        text-align: right;\n",
       "    }\n",
       "</style>\n",
       "<table border=\"1\" class=\"dataframe\">\n",
       "  <thead>\n",
       "    <tr style=\"text-align: right;\">\n",
       "      <th></th>\n",
       "      <th>age</th>\n",
       "      <th>hypertension</th>\n",
       "      <th>heart_disease</th>\n",
       "      <th>avg_glucose_level</th>\n",
       "      <th>bmi</th>\n",
       "      <th>stroke</th>\n",
       "      <th>gender_Male</th>\n",
       "      <th>gender_Other</th>\n",
       "      <th>ever_married_Yes</th>\n",
       "      <th>work_type_Never_worked</th>\n",
       "      <th>work_type_Private</th>\n",
       "      <th>work_type_Self-employed</th>\n",
       "      <th>work_type_children</th>\n",
       "      <th>Residence_type_Urban</th>\n",
       "      <th>smoking_status_formerly smoked</th>\n",
       "      <th>smoking_status_never smoked</th>\n",
       "      <th>smoking_status_smokes</th>\n",
       "    </tr>\n",
       "  </thead>\n",
       "  <tbody>\n",
       "    <tr>\n",
       "      <th>0</th>\n",
       "      <td>80.0</td>\n",
       "      <td>0</td>\n",
       "      <td>1</td>\n",
       "      <td>105.92</td>\n",
       "      <td>32.5</td>\n",
       "      <td>1</td>\n",
       "      <td>1</td>\n",
       "      <td>0</td>\n",
       "      <td>1</td>\n",
       "      <td>0</td>\n",
       "      <td>1</td>\n",
       "      <td>0</td>\n",
       "      <td>0</td>\n",
       "      <td>0</td>\n",
       "      <td>0</td>\n",
       "      <td>1</td>\n",
       "      <td>0</td>\n",
       "    </tr>\n",
       "    <tr>\n",
       "      <th>1</th>\n",
       "      <td>49.0</td>\n",
       "      <td>0</td>\n",
       "      <td>0</td>\n",
       "      <td>171.23</td>\n",
       "      <td>34.4</td>\n",
       "      <td>1</td>\n",
       "      <td>0</td>\n",
       "      <td>0</td>\n",
       "      <td>1</td>\n",
       "      <td>0</td>\n",
       "      <td>1</td>\n",
       "      <td>0</td>\n",
       "      <td>0</td>\n",
       "      <td>1</td>\n",
       "      <td>0</td>\n",
       "      <td>0</td>\n",
       "      <td>1</td>\n",
       "    </tr>\n",
       "    <tr>\n",
       "      <th>2</th>\n",
       "      <td>79.0</td>\n",
       "      <td>1</td>\n",
       "      <td>0</td>\n",
       "      <td>174.12</td>\n",
       "      <td>24.0</td>\n",
       "      <td>1</td>\n",
       "      <td>0</td>\n",
       "      <td>0</td>\n",
       "      <td>1</td>\n",
       "      <td>0</td>\n",
       "      <td>0</td>\n",
       "      <td>1</td>\n",
       "      <td>0</td>\n",
       "      <td>0</td>\n",
       "      <td>0</td>\n",
       "      <td>1</td>\n",
       "      <td>0</td>\n",
       "    </tr>\n",
       "    <tr>\n",
       "      <th>3</th>\n",
       "      <td>81.0</td>\n",
       "      <td>0</td>\n",
       "      <td>0</td>\n",
       "      <td>186.21</td>\n",
       "      <td>29.0</td>\n",
       "      <td>1</td>\n",
       "      <td>1</td>\n",
       "      <td>0</td>\n",
       "      <td>1</td>\n",
       "      <td>0</td>\n",
       "      <td>1</td>\n",
       "      <td>0</td>\n",
       "      <td>0</td>\n",
       "      <td>1</td>\n",
       "      <td>1</td>\n",
       "      <td>0</td>\n",
       "      <td>0</td>\n",
       "    </tr>\n",
       "    <tr>\n",
       "      <th>4</th>\n",
       "      <td>74.0</td>\n",
       "      <td>1</td>\n",
       "      <td>1</td>\n",
       "      <td>70.09</td>\n",
       "      <td>27.4</td>\n",
       "      <td>1</td>\n",
       "      <td>1</td>\n",
       "      <td>0</td>\n",
       "      <td>1</td>\n",
       "      <td>0</td>\n",
       "      <td>1</td>\n",
       "      <td>0</td>\n",
       "      <td>0</td>\n",
       "      <td>0</td>\n",
       "      <td>0</td>\n",
       "      <td>1</td>\n",
       "      <td>0</td>\n",
       "    </tr>\n",
       "  </tbody>\n",
       "</table>\n",
       "</div>"
      ],
      "text/plain": [
       "    age  hypertension  heart_disease  avg_glucose_level   bmi  stroke  \\\n",
       "0  80.0             0              1             105.92  32.5       1   \n",
       "1  49.0             0              0             171.23  34.4       1   \n",
       "2  79.0             1              0             174.12  24.0       1   \n",
       "3  81.0             0              0             186.21  29.0       1   \n",
       "4  74.0             1              1              70.09  27.4       1   \n",
       "\n",
       "   gender_Male  gender_Other  ever_married_Yes  work_type_Never_worked  \\\n",
       "0            1             0                 1                       0   \n",
       "1            0             0                 1                       0   \n",
       "2            0             0                 1                       0   \n",
       "3            1             0                 1                       0   \n",
       "4            1             0                 1                       0   \n",
       "\n",
       "   work_type_Private  work_type_Self-employed  work_type_children  \\\n",
       "0                  1                        0                   0   \n",
       "1                  1                        0                   0   \n",
       "2                  0                        1                   0   \n",
       "3                  1                        0                   0   \n",
       "4                  1                        0                   0   \n",
       "\n",
       "   Residence_type_Urban  smoking_status_formerly smoked  \\\n",
       "0                     0                               0   \n",
       "1                     1                               0   \n",
       "2                     0                               0   \n",
       "3                     1                               1   \n",
       "4                     0                               0   \n",
       "\n",
       "   smoking_status_never smoked  smoking_status_smokes  \n",
       "0                            1                      0  \n",
       "1                            0                      1  \n",
       "2                            1                      0  \n",
       "3                            0                      0  \n",
       "4                            1                      0  "
      ]
     },
     "execution_count": 2,
     "metadata": {},
     "output_type": "execute_result"
    }
   ],
   "source": [
    "dataset=pd.read_csv(\"training_data.csv\")\n",
    "dataset.drop(\"Unnamed: 0\",axis=1,inplace=True)\n",
    "dataset.head()"
   ]
  },
  {
   "cell_type": "code",
   "execution_count": 3,
   "id": "dbc61a8b",
   "metadata": {},
   "outputs": [
    {
     "data": {
      "text/plain": [
       "(4187, 17)"
      ]
     },
     "execution_count": 3,
     "metadata": {},
     "output_type": "execute_result"
    }
   ],
   "source": [
    "dataset.shape"
   ]
  },
  {
   "cell_type": "markdown",
   "id": "4b4db11d",
   "metadata": {},
   "source": [
    "#### Lets us fill BMI's null values with Median"
   ]
  },
  {
   "cell_type": "code",
   "execution_count": 4,
   "id": "a1f878fe",
   "metadata": {},
   "outputs": [],
   "source": [
    "dataset[\"bmi\"].fillna(dataset[\"bmi\"].median(),inplace=True)"
   ]
  },
  {
   "cell_type": "code",
   "execution_count": 5,
   "id": "dcc5a390",
   "metadata": {},
   "outputs": [
    {
     "data": {
      "text/plain": [
       "age                               0\n",
       "hypertension                      0\n",
       "heart_disease                     0\n",
       "avg_glucose_level                 0\n",
       "bmi                               0\n",
       "stroke                            0\n",
       "gender_Male                       0\n",
       "gender_Other                      0\n",
       "ever_married_Yes                  0\n",
       "work_type_Never_worked            0\n",
       "work_type_Private                 0\n",
       "work_type_Self-employed           0\n",
       "work_type_children                0\n",
       "Residence_type_Urban              0\n",
       "smoking_status_formerly smoked    0\n",
       "smoking_status_never smoked       0\n",
       "smoking_status_smokes             0\n",
       "dtype: int64"
      ]
     },
     "execution_count": 5,
     "metadata": {},
     "output_type": "execute_result"
    }
   ],
   "source": [
    "dataset.isnull().sum()"
   ]
  },
  {
   "cell_type": "code",
   "execution_count": 6,
   "id": "72114fa7",
   "metadata": {},
   "outputs": [],
   "source": [
    "##Lets perform over sampling first be"
   ]
  },
  {
   "cell_type": "code",
   "execution_count": 7,
   "id": "0197a2db",
   "metadata": {},
   "outputs": [],
   "source": [
    "smote=SMOTETomek(random_state=42,n_jobs=-1)"
   ]
  },
  {
   "cell_type": "code",
   "execution_count": 8,
   "id": "8dac8389",
   "metadata": {},
   "outputs": [],
   "source": [
    "X=dataset.drop(\"stroke\",axis=1)\n",
    "y=dataset[\"stroke\"]"
   ]
  },
  {
   "cell_type": "code",
   "execution_count": 9,
   "id": "3ca16993",
   "metadata": {
    "scrolled": true
   },
   "outputs": [
    {
     "data": {
      "text/plain": [
       "Index(['age', 'hypertension', 'heart_disease', 'avg_glucose_level', 'bmi',\n",
       "       'gender_Male', 'gender_Other', 'ever_married_Yes',\n",
       "       'work_type_Never_worked', 'work_type_Private',\n",
       "       'work_type_Self-employed', 'work_type_children', 'Residence_type_Urban',\n",
       "       'smoking_status_formerly smoked', 'smoking_status_never smoked',\n",
       "       'smoking_status_smokes'],\n",
       "      dtype='object')"
      ]
     },
     "execution_count": 9,
     "metadata": {},
     "output_type": "execute_result"
    }
   ],
   "source": [
    "X.columns"
   ]
  },
  {
   "cell_type": "code",
   "execution_count": 10,
   "id": "83647ad8",
   "metadata": {},
   "outputs": [],
   "source": [
    "x_,y_=smote.fit_resample(X,y)"
   ]
  },
  {
   "cell_type": "code",
   "execution_count": 11,
   "id": "b7fb6474",
   "metadata": {},
   "outputs": [
    {
     "data": {
      "text/plain": [
       "Index(['age', 'hypertension', 'heart_disease', 'avg_glucose_level', 'bmi',\n",
       "       'gender_Male', 'gender_Other', 'ever_married_Yes',\n",
       "       'work_type_Never_worked', 'work_type_Private',\n",
       "       'work_type_Self-employed', 'work_type_children', 'Residence_type_Urban',\n",
       "       'smoking_status_formerly smoked', 'smoking_status_never smoked',\n",
       "       'smoking_status_smokes'],\n",
       "      dtype='object')"
      ]
     },
     "execution_count": 11,
     "metadata": {},
     "output_type": "execute_result"
    }
   ],
   "source": [
    "x_.columns"
   ]
  },
  {
   "cell_type": "code",
   "execution_count": 12,
   "id": "034210c4",
   "metadata": {},
   "outputs": [
    {
     "name": "stdout",
     "output_type": "stream",
     "text": [
      "(8006, 16) (8006,)\n"
     ]
    }
   ],
   "source": [
    "print(x_.shape,y_.shape)"
   ]
  },
  {
   "cell_type": "code",
   "execution_count": 13,
   "id": "935100f4",
   "metadata": {},
   "outputs": [
    {
     "name": "stdout",
     "output_type": "stream",
     "text": [
      "{0: 4035, 1: 152}\n"
     ]
    }
   ],
   "source": [
    "##Before oversampling\n",
    "sampling={0:0,1:0}\n",
    "for pt in y:\n",
    "    if sampling[pt]==0:\n",
    "        sampling[pt]=sampling[pt]+1\n",
    "    else:\n",
    "        sampling[pt]=sampling[pt]+1\n",
    "\n",
    "print(sampling)"
   ]
  },
  {
   "cell_type": "code",
   "execution_count": 14,
   "id": "da4918aa",
   "metadata": {},
   "outputs": [
    {
     "name": "stdout",
     "output_type": "stream",
     "text": [
      "{0: 4003, 1: 4003}\n"
     ]
    }
   ],
   "source": [
    "resampling={0:0,1:0} ##After oversampling\n",
    "for pt in y_:\n",
    "    if resampling[pt]==0:\n",
    "        resampling[pt]=resampling[pt]+1\n",
    "    else:\n",
    "        resampling[pt]=resampling[pt]+1\n",
    "\n",
    "print(resampling)"
   ]
  },
  {
   "cell_type": "code",
   "execution_count": 15,
   "id": "def9bd7f",
   "metadata": {},
   "outputs": [],
   "source": [
    "scale=StandardScaler()##performing standard scaling\n",
    "scaled_features=scale.fit_transform(x_)"
   ]
  },
  {
   "cell_type": "code",
   "execution_count": 16,
   "id": "e2a32fad",
   "metadata": {},
   "outputs": [
    {
     "data": {
      "text/plain": [
       "(8006, 16)"
      ]
     },
     "execution_count": 16,
     "metadata": {},
     "output_type": "execute_result"
    }
   ],
   "source": [
    "x_.shape"
   ]
  },
  {
   "cell_type": "code",
   "execution_count": 17,
   "id": "3c82a5c2",
   "metadata": {},
   "outputs": [
    {
     "data": {
      "text/plain": [
       "array([[ 1.1248494 , -0.2994937 ,  5.44741494, ..., -0.36054534,\n",
       "         1.56694932, -0.32150075],\n",
       "       [-0.22486053, -0.2994937 , -0.18357331, ..., -0.36054534,\n",
       "        -0.63818273,  3.11041262],\n",
       "       [ 1.08131037,  3.33896843, -0.18357331, ..., -0.36054534,\n",
       "         1.56694932, -0.32150075],\n",
       "       ...,\n",
       "       [ 1.09575621, -0.2994937 , -0.18357331, ..., -0.36054534,\n",
       "         1.56694932, -0.32150075],\n",
       "       [ 0.75952012, -0.2994937 , -0.18357331, ..., -0.36054534,\n",
       "        -0.63818273, -0.32150075],\n",
       "       [ 0.17444935, -0.2994937 , -0.18357331, ..., -0.36054534,\n",
       "        -0.63818273, -0.32150075]])"
      ]
     },
     "execution_count": 17,
     "metadata": {},
     "output_type": "execute_result"
    }
   ],
   "source": [
    "scaled_features"
   ]
  },
  {
   "cell_type": "code",
   "execution_count": 18,
   "id": "a5e47608",
   "metadata": {},
   "outputs": [],
   "source": [
    "colums=[]##Independent features\n",
    "for feature in dataset.columns:\n",
    "    if feature==\"stroke\":\n",
    "        continue\n",
    "    else:\n",
    "        colums.append(feature)"
   ]
  },
  {
   "cell_type": "code",
   "execution_count": 19,
   "id": "93f31384",
   "metadata": {},
   "outputs": [],
   "source": [
    "scaled_data=pd.DataFrame(scaled_features,columns=colums)##Converting scaled data to dataframe"
   ]
  },
  {
   "cell_type": "code",
   "execution_count": 20,
   "id": "037320fd",
   "metadata": {
    "scrolled": true
   },
   "outputs": [
    {
     "data": {
      "text/html": [
       "<div>\n",
       "<style scoped>\n",
       "    .dataframe tbody tr th:only-of-type {\n",
       "        vertical-align: middle;\n",
       "    }\n",
       "\n",
       "    .dataframe tbody tr th {\n",
       "        vertical-align: top;\n",
       "    }\n",
       "\n",
       "    .dataframe thead th {\n",
       "        text-align: right;\n",
       "    }\n",
       "</style>\n",
       "<table border=\"1\" class=\"dataframe\">\n",
       "  <thead>\n",
       "    <tr style=\"text-align: right;\">\n",
       "      <th></th>\n",
       "      <th>age</th>\n",
       "      <th>hypertension</th>\n",
       "      <th>heart_disease</th>\n",
       "      <th>avg_glucose_level</th>\n",
       "      <th>bmi</th>\n",
       "      <th>gender_Male</th>\n",
       "      <th>gender_Other</th>\n",
       "      <th>ever_married_Yes</th>\n",
       "      <th>work_type_Never_worked</th>\n",
       "      <th>work_type_Private</th>\n",
       "      <th>work_type_Self-employed</th>\n",
       "      <th>work_type_children</th>\n",
       "      <th>Residence_type_Urban</th>\n",
       "      <th>smoking_status_formerly smoked</th>\n",
       "      <th>smoking_status_never smoked</th>\n",
       "      <th>smoking_status_smokes</th>\n",
       "    </tr>\n",
       "  </thead>\n",
       "  <tbody>\n",
       "    <tr>\n",
       "      <th>0</th>\n",
       "      <td>1.124849</td>\n",
       "      <td>-0.299494</td>\n",
       "      <td>5.447415</td>\n",
       "      <td>0.159705</td>\n",
       "      <td>0.914311</td>\n",
       "      <td>1.512576</td>\n",
       "      <td>-0.011177</td>\n",
       "      <td>0.669916</td>\n",
       "      <td>-0.050044</td>\n",
       "      <td>1.099341</td>\n",
       "      <td>-0.381893</td>\n",
       "      <td>-0.300977</td>\n",
       "      <td>-0.780957</td>\n",
       "      <td>-0.360545</td>\n",
       "      <td>1.566949</td>\n",
       "      <td>-0.321501</td>\n",
       "    </tr>\n",
       "    <tr>\n",
       "      <th>1</th>\n",
       "      <td>-0.224861</td>\n",
       "      <td>-0.299494</td>\n",
       "      <td>-0.183573</td>\n",
       "      <td>2.026632</td>\n",
       "      <td>1.282934</td>\n",
       "      <td>-0.661124</td>\n",
       "      <td>-0.011177</td>\n",
       "      <td>0.669916</td>\n",
       "      <td>-0.050044</td>\n",
       "      <td>1.099341</td>\n",
       "      <td>-0.381893</td>\n",
       "      <td>-0.300977</td>\n",
       "      <td>1.280481</td>\n",
       "      <td>-0.360545</td>\n",
       "      <td>-0.638183</td>\n",
       "      <td>3.110413</td>\n",
       "    </tr>\n",
       "    <tr>\n",
       "      <th>2</th>\n",
       "      <td>1.081310</td>\n",
       "      <td>3.338968</td>\n",
       "      <td>-0.183573</td>\n",
       "      <td>2.109244</td>\n",
       "      <td>-0.734795</td>\n",
       "      <td>-0.661124</td>\n",
       "      <td>-0.011177</td>\n",
       "      <td>0.669916</td>\n",
       "      <td>-0.050044</td>\n",
       "      <td>-0.909635</td>\n",
       "      <td>2.618534</td>\n",
       "      <td>-0.300977</td>\n",
       "      <td>-0.780957</td>\n",
       "      <td>-0.360545</td>\n",
       "      <td>1.566949</td>\n",
       "      <td>-0.321501</td>\n",
       "    </tr>\n",
       "    <tr>\n",
       "      <th>3</th>\n",
       "      <td>1.168388</td>\n",
       "      <td>-0.299494</td>\n",
       "      <td>-0.183573</td>\n",
       "      <td>2.454845</td>\n",
       "      <td>0.235267</td>\n",
       "      <td>1.512576</td>\n",
       "      <td>-0.011177</td>\n",
       "      <td>0.669916</td>\n",
       "      <td>-0.050044</td>\n",
       "      <td>1.099341</td>\n",
       "      <td>-0.381893</td>\n",
       "      <td>-0.300977</td>\n",
       "      <td>1.280481</td>\n",
       "      <td>2.773576</td>\n",
       "      <td>-0.638183</td>\n",
       "      <td>-0.321501</td>\n",
       "    </tr>\n",
       "    <tr>\n",
       "      <th>4</th>\n",
       "      <td>0.863615</td>\n",
       "      <td>3.338968</td>\n",
       "      <td>5.447415</td>\n",
       "      <td>-0.864518</td>\n",
       "      <td>-0.075152</td>\n",
       "      <td>1.512576</td>\n",
       "      <td>-0.011177</td>\n",
       "      <td>0.669916</td>\n",
       "      <td>-0.050044</td>\n",
       "      <td>1.099341</td>\n",
       "      <td>-0.381893</td>\n",
       "      <td>-0.300977</td>\n",
       "      <td>-0.780957</td>\n",
       "      <td>-0.360545</td>\n",
       "      <td>1.566949</td>\n",
       "      <td>-0.321501</td>\n",
       "    </tr>\n",
       "  </tbody>\n",
       "</table>\n",
       "</div>"
      ],
      "text/plain": [
       "        age  hypertension  heart_disease  avg_glucose_level       bmi  \\\n",
       "0  1.124849     -0.299494       5.447415           0.159705  0.914311   \n",
       "1 -0.224861     -0.299494      -0.183573           2.026632  1.282934   \n",
       "2  1.081310      3.338968      -0.183573           2.109244 -0.734795   \n",
       "3  1.168388     -0.299494      -0.183573           2.454845  0.235267   \n",
       "4  0.863615      3.338968       5.447415          -0.864518 -0.075152   \n",
       "\n",
       "   gender_Male  gender_Other  ever_married_Yes  work_type_Never_worked  \\\n",
       "0     1.512576     -0.011177          0.669916               -0.050044   \n",
       "1    -0.661124     -0.011177          0.669916               -0.050044   \n",
       "2    -0.661124     -0.011177          0.669916               -0.050044   \n",
       "3     1.512576     -0.011177          0.669916               -0.050044   \n",
       "4     1.512576     -0.011177          0.669916               -0.050044   \n",
       "\n",
       "   work_type_Private  work_type_Self-employed  work_type_children  \\\n",
       "0           1.099341                -0.381893           -0.300977   \n",
       "1           1.099341                -0.381893           -0.300977   \n",
       "2          -0.909635                 2.618534           -0.300977   \n",
       "3           1.099341                -0.381893           -0.300977   \n",
       "4           1.099341                -0.381893           -0.300977   \n",
       "\n",
       "   Residence_type_Urban  smoking_status_formerly smoked  \\\n",
       "0             -0.780957                       -0.360545   \n",
       "1              1.280481                       -0.360545   \n",
       "2             -0.780957                       -0.360545   \n",
       "3              1.280481                        2.773576   \n",
       "4             -0.780957                       -0.360545   \n",
       "\n",
       "   smoking_status_never smoked  smoking_status_smokes  \n",
       "0                     1.566949              -0.321501  \n",
       "1                    -0.638183               3.110413  \n",
       "2                     1.566949              -0.321501  \n",
       "3                    -0.638183              -0.321501  \n",
       "4                     1.566949              -0.321501  "
      ]
     },
     "execution_count": 20,
     "metadata": {},
     "output_type": "execute_result"
    }
   ],
   "source": [
    "scaled_data.head()"
   ]
  },
  {
   "cell_type": "code",
   "execution_count": 21,
   "id": "ea7931cc",
   "metadata": {
    "scrolled": false
   },
   "outputs": [
    {
     "data": {
      "text/html": [
       "<div>\n",
       "<style scoped>\n",
       "    .dataframe tbody tr th:only-of-type {\n",
       "        vertical-align: middle;\n",
       "    }\n",
       "\n",
       "    .dataframe tbody tr th {\n",
       "        vertical-align: top;\n",
       "    }\n",
       "\n",
       "    .dataframe thead th {\n",
       "        text-align: right;\n",
       "    }\n",
       "</style>\n",
       "<table border=\"1\" class=\"dataframe\">\n",
       "  <thead>\n",
       "    <tr style=\"text-align: right;\">\n",
       "      <th></th>\n",
       "      <th>age</th>\n",
       "      <th>hypertension</th>\n",
       "      <th>heart_disease</th>\n",
       "      <th>avg_glucose_level</th>\n",
       "      <th>bmi</th>\n",
       "      <th>gender_Male</th>\n",
       "      <th>gender_Other</th>\n",
       "      <th>ever_married_Yes</th>\n",
       "      <th>work_type_Never_worked</th>\n",
       "      <th>work_type_Private</th>\n",
       "      <th>work_type_Self-employed</th>\n",
       "      <th>work_type_children</th>\n",
       "      <th>Residence_type_Urban</th>\n",
       "      <th>smoking_status_formerly smoked</th>\n",
       "      <th>smoking_status_never smoked</th>\n",
       "      <th>smoking_status_smokes</th>\n",
       "      <th>stroke</th>\n",
       "    </tr>\n",
       "  </thead>\n",
       "  <tbody>\n",
       "    <tr>\n",
       "      <th>0</th>\n",
       "      <td>1.124849</td>\n",
       "      <td>-0.299494</td>\n",
       "      <td>5.447415</td>\n",
       "      <td>0.159705</td>\n",
       "      <td>0.914311</td>\n",
       "      <td>1.512576</td>\n",
       "      <td>-0.011177</td>\n",
       "      <td>0.669916</td>\n",
       "      <td>-0.050044</td>\n",
       "      <td>1.099341</td>\n",
       "      <td>-0.381893</td>\n",
       "      <td>-0.300977</td>\n",
       "      <td>-0.780957</td>\n",
       "      <td>-0.360545</td>\n",
       "      <td>1.566949</td>\n",
       "      <td>-0.321501</td>\n",
       "      <td>1</td>\n",
       "    </tr>\n",
       "    <tr>\n",
       "      <th>1</th>\n",
       "      <td>-0.224861</td>\n",
       "      <td>-0.299494</td>\n",
       "      <td>-0.183573</td>\n",
       "      <td>2.026632</td>\n",
       "      <td>1.282934</td>\n",
       "      <td>-0.661124</td>\n",
       "      <td>-0.011177</td>\n",
       "      <td>0.669916</td>\n",
       "      <td>-0.050044</td>\n",
       "      <td>1.099341</td>\n",
       "      <td>-0.381893</td>\n",
       "      <td>-0.300977</td>\n",
       "      <td>1.280481</td>\n",
       "      <td>-0.360545</td>\n",
       "      <td>-0.638183</td>\n",
       "      <td>3.110413</td>\n",
       "      <td>1</td>\n",
       "    </tr>\n",
       "    <tr>\n",
       "      <th>2</th>\n",
       "      <td>1.081310</td>\n",
       "      <td>3.338968</td>\n",
       "      <td>-0.183573</td>\n",
       "      <td>2.109244</td>\n",
       "      <td>-0.734795</td>\n",
       "      <td>-0.661124</td>\n",
       "      <td>-0.011177</td>\n",
       "      <td>0.669916</td>\n",
       "      <td>-0.050044</td>\n",
       "      <td>-0.909635</td>\n",
       "      <td>2.618534</td>\n",
       "      <td>-0.300977</td>\n",
       "      <td>-0.780957</td>\n",
       "      <td>-0.360545</td>\n",
       "      <td>1.566949</td>\n",
       "      <td>-0.321501</td>\n",
       "      <td>1</td>\n",
       "    </tr>\n",
       "    <tr>\n",
       "      <th>3</th>\n",
       "      <td>1.168388</td>\n",
       "      <td>-0.299494</td>\n",
       "      <td>-0.183573</td>\n",
       "      <td>2.454845</td>\n",
       "      <td>0.235267</td>\n",
       "      <td>1.512576</td>\n",
       "      <td>-0.011177</td>\n",
       "      <td>0.669916</td>\n",
       "      <td>-0.050044</td>\n",
       "      <td>1.099341</td>\n",
       "      <td>-0.381893</td>\n",
       "      <td>-0.300977</td>\n",
       "      <td>1.280481</td>\n",
       "      <td>2.773576</td>\n",
       "      <td>-0.638183</td>\n",
       "      <td>-0.321501</td>\n",
       "      <td>1</td>\n",
       "    </tr>\n",
       "    <tr>\n",
       "      <th>4</th>\n",
       "      <td>0.863615</td>\n",
       "      <td>3.338968</td>\n",
       "      <td>5.447415</td>\n",
       "      <td>-0.864518</td>\n",
       "      <td>-0.075152</td>\n",
       "      <td>1.512576</td>\n",
       "      <td>-0.011177</td>\n",
       "      <td>0.669916</td>\n",
       "      <td>-0.050044</td>\n",
       "      <td>1.099341</td>\n",
       "      <td>-0.381893</td>\n",
       "      <td>-0.300977</td>\n",
       "      <td>-0.780957</td>\n",
       "      <td>-0.360545</td>\n",
       "      <td>1.566949</td>\n",
       "      <td>-0.321501</td>\n",
       "      <td>1</td>\n",
       "    </tr>\n",
       "  </tbody>\n",
       "</table>\n",
       "</div>"
      ],
      "text/plain": [
       "        age  hypertension  heart_disease  avg_glucose_level       bmi  \\\n",
       "0  1.124849     -0.299494       5.447415           0.159705  0.914311   \n",
       "1 -0.224861     -0.299494      -0.183573           2.026632  1.282934   \n",
       "2  1.081310      3.338968      -0.183573           2.109244 -0.734795   \n",
       "3  1.168388     -0.299494      -0.183573           2.454845  0.235267   \n",
       "4  0.863615      3.338968       5.447415          -0.864518 -0.075152   \n",
       "\n",
       "   gender_Male  gender_Other  ever_married_Yes  work_type_Never_worked  \\\n",
       "0     1.512576     -0.011177          0.669916               -0.050044   \n",
       "1    -0.661124     -0.011177          0.669916               -0.050044   \n",
       "2    -0.661124     -0.011177          0.669916               -0.050044   \n",
       "3     1.512576     -0.011177          0.669916               -0.050044   \n",
       "4     1.512576     -0.011177          0.669916               -0.050044   \n",
       "\n",
       "   work_type_Private  work_type_Self-employed  work_type_children  \\\n",
       "0           1.099341                -0.381893           -0.300977   \n",
       "1           1.099341                -0.381893           -0.300977   \n",
       "2          -0.909635                 2.618534           -0.300977   \n",
       "3           1.099341                -0.381893           -0.300977   \n",
       "4           1.099341                -0.381893           -0.300977   \n",
       "\n",
       "   Residence_type_Urban  smoking_status_formerly smoked  \\\n",
       "0             -0.780957                       -0.360545   \n",
       "1              1.280481                       -0.360545   \n",
       "2             -0.780957                       -0.360545   \n",
       "3              1.280481                        2.773576   \n",
       "4             -0.780957                       -0.360545   \n",
       "\n",
       "   smoking_status_never smoked  smoking_status_smokes  stroke  \n",
       "0                     1.566949              -0.321501       1  \n",
       "1                    -0.638183               3.110413       1  \n",
       "2                     1.566949              -0.321501       1  \n",
       "3                    -0.638183              -0.321501       1  \n",
       "4                     1.566949              -0.321501       1  "
      ]
     },
     "execution_count": 21,
     "metadata": {},
     "output_type": "execute_result"
    }
   ],
   "source": [
    "scaled_data[\"stroke\"]=y_\n",
    "scaled_data.head()"
   ]
  },
  {
   "cell_type": "code",
   "execution_count": 22,
   "id": "f4cc1ae0",
   "metadata": {},
   "outputs": [],
   "source": [
    "#sns.pairplot(scaled_data,hue=\"stroke\",palette=\"Set2\")"
   ]
  },
  {
   "cell_type": "markdown",
   "id": "92020b02",
   "metadata": {},
   "source": [
    "## Lets perform train test split"
   ]
  },
  {
   "cell_type": "code",
   "execution_count": 23,
   "id": "f253c231",
   "metadata": {},
   "outputs": [],
   "source": [
    "# X=scaled_data.drop(\"stroke\",axis=1)\n",
    "# y=scaled_data[\"stroke\"]\n",
    "# X_train,X_test,y_train,y_test=train_test_split(X,y,test_size=0.3,random_state=42)\n",
    "X_train,X_test,y_train,y_test=train_test_split(x_,y_,test_size=0.3,random_state=42)"
   ]
  },
  {
   "cell_type": "code",
   "execution_count": 24,
   "id": "731d0819",
   "metadata": {},
   "outputs": [
    {
     "name": "stdout",
     "output_type": "stream",
     "text": [
      "(5604, 16) (2402, 16)\n"
     ]
    }
   ],
   "source": [
    "print(X_train.shape,X_test.shape)"
   ]
  },
  {
   "cell_type": "code",
   "execution_count": 25,
   "id": "066afe47",
   "metadata": {},
   "outputs": [],
   "source": [
    "# accuracy=[]\n",
    "# for i in range(1,80):\n",
    "#     pipeline1=Pipeline([\n",
    "#     (\"scaling\",StandardScaler()),\n",
    "#     (\"kmeans\",KNeighborsClassifier(n_neighbors=i,n_jobs=-1))\n",
    "# ])\n",
    "#     pipeline1.fit(X_train,y_train)\n",
    "#     y_pred=pipeline1.predict(X_test)\n",
    "#     score=accuracy_score(y_test,y_pred)\n",
    "#     accuracy.append(score)\n",
    "    "
   ]
  },
  {
   "cell_type": "markdown",
   "id": "5df4f85f",
   "metadata": {},
   "source": [
    "## Plot K vs Accuracy"
   ]
  },
  {
   "cell_type": "code",
   "execution_count": 26,
   "id": "ee377596",
   "metadata": {},
   "outputs": [],
   "source": [
    "# plt.figure(figsize=(10,6))\n",
    "# plt.plot(range(1,80),accuracy,color='blue', linestyle='dashed', \n",
    "#          marker='o',markerfacecolor='red', markersize=10)\n",
    "# plt.title('Accuracy Rate vs. K Value')\n",
    "# plt.xlabel('K')\n",
    "# plt.ylabel('Accuracy Rate')"
   ]
  },
  {
   "cell_type": "markdown",
   "id": "6f8e69b4",
   "metadata": {},
   "source": [
    "## Error Rate vs K"
   ]
  },
  {
   "cell_type": "code",
   "execution_count": 27,
   "id": "5c1d61d3",
   "metadata": {},
   "outputs": [],
   "source": [
    "# error_rate = []\n",
    "# for i in range(1,80):\n",
    "#  knn = KNeighborsClassifier(n_neighbors=i,n_jobs=-1)\n",
    "#  knn.fit(X_train,y_train)\n",
    "#  pred_i = knn.predict(X_test)\n",
    "#  error_rate.append(np.mean(pred_i != y_test))\n",
    "\n",
    "# plt.figure(figsize=(10,6))\n",
    "# plt.plot(range(1,80),error_rate,color='blue', linestyle='dashed', \n",
    "#          marker='o',markerfacecolor='red', markersize=10)\n",
    "# plt.title('Error Rate vs. K Value')\n",
    "# plt.xlabel('K')\n",
    "# plt.ylabel('Error Rate')\n",
    "# print(\"Minimum error:-\",min(error_rate),\"at K =\",error_rate.index(min(error_rate)))"
   ]
  },
  {
   "cell_type": "code",
   "execution_count": 28,
   "id": "608064cd",
   "metadata": {},
   "outputs": [],
   "source": [
    "## As we can see that after k=65 there is not much change in error rate and accuracy\n",
    "##if we choose lower value model might overfit"
   ]
  },
  {
   "cell_type": "code",
   "execution_count": 29,
   "id": "295f79a5",
   "metadata": {},
   "outputs": [],
   "source": [
    "# knn=KNeighborsClassifier(n_neighbors=55,n_jobs=-1)"
   ]
  },
  {
   "cell_type": "code",
   "execution_count": 30,
   "id": "2978624f",
   "metadata": {},
   "outputs": [],
   "source": [
    "pipeline=Pipeline([\n",
    "    (\"scaling\",StandardScaler()),\n",
    "    (\"kmeans\",KNeighborsClassifier(n_neighbors=55,n_jobs=-1))\n",
    "])"
   ]
  },
  {
   "cell_type": "code",
   "execution_count": 31,
   "id": "5eab5cba",
   "metadata": {},
   "outputs": [
    {
     "data": {
      "text/plain": [
       "1    2810\n",
       "0    2794\n",
       "Name: stroke, dtype: int64"
      ]
     },
     "execution_count": 31,
     "metadata": {},
     "output_type": "execute_result"
    }
   ],
   "source": [
    "y_train.value_counts()"
   ]
  },
  {
   "cell_type": "code",
   "execution_count": 32,
   "id": "5d3c38c0",
   "metadata": {},
   "outputs": [
    {
     "data": {
      "text/plain": [
       "Pipeline(steps=[('scaling', StandardScaler()),\n",
       "                ('kmeans', KNeighborsClassifier(n_jobs=-1, n_neighbors=55))])"
      ]
     },
     "execution_count": 32,
     "metadata": {},
     "output_type": "execute_result"
    }
   ],
   "source": [
    "pipeline.fit(X_train,y_train)"
   ]
  },
  {
   "cell_type": "code",
   "execution_count": 33,
   "id": "632074a8",
   "metadata": {},
   "outputs": [],
   "source": [
    "score=cross_val_score(pipeline,X_train,y_train,cv=10,n_jobs=-1)"
   ]
  },
  {
   "cell_type": "code",
   "execution_count": 34,
   "id": "6eabe52f",
   "metadata": {},
   "outputs": [],
   "source": [
    "##Lets See how our model performs on test data"
   ]
  },
  {
   "cell_type": "code",
   "execution_count": 35,
   "id": "840f5d19",
   "metadata": {},
   "outputs": [
    {
     "data": {
      "text/plain": [
       "array([0.85204991, 0.85383244, 0.86809269, 0.85918004, 0.86607143,\n",
       "       0.9       , 0.84642857, 0.84642857, 0.86964286, 0.86428571])"
      ]
     },
     "execution_count": 35,
     "metadata": {},
     "output_type": "execute_result"
    }
   ],
   "source": [
    "score"
   ]
  },
  {
   "cell_type": "code",
   "execution_count": 36,
   "id": "5adc7e96",
   "metadata": {
    "scrolled": true
   },
   "outputs": [
    {
     "data": {
      "text/plain": [
       "0.8626012223071046"
      ]
     },
     "execution_count": 36,
     "metadata": {},
     "output_type": "execute_result"
    }
   ],
   "source": [
    "score.mean()"
   ]
  },
  {
   "cell_type": "code",
   "execution_count": 37,
   "id": "0e5317b4",
   "metadata": {},
   "outputs": [
    {
     "name": "stdout",
     "output_type": "stream",
     "text": [
      "The max accuracy we can get is 0.9 and the lowest it can go is 0.8464285714285714\n"
     ]
    }
   ],
   "source": [
    " print(\"The max accuracy we can get is {} and the lowest it can go is {}\".format(score.max(),score.min()))"
   ]
  },
  {
   "cell_type": "code",
   "execution_count": 38,
   "id": "16c0d328",
   "metadata": {},
   "outputs": [
    {
     "data": {
      "text/plain": [
       "0    1209\n",
       "1    1193\n",
       "Name: stroke, dtype: int64"
      ]
     },
     "execution_count": 38,
     "metadata": {},
     "output_type": "execute_result"
    }
   ],
   "source": [
    "y_test.value_counts()"
   ]
  },
  {
   "cell_type": "code",
   "execution_count": 39,
   "id": "cfb7f950",
   "metadata": {},
   "outputs": [],
   "source": [
    "pipeline.fit(X_train,y_train)\n",
    "y_predicted=pipeline.predict(X_test)\n",
    "cm=confusion_matrix(y_test,y_predicted)"
   ]
  },
  {
   "cell_type": "code",
   "execution_count": 40,
   "id": "727c3e54",
   "metadata": {},
   "outputs": [
    {
     "data": {
      "text/plain": [
       "array([[ 956,  253],\n",
       "       [ 111, 1082]])"
      ]
     },
     "execution_count": 40,
     "metadata": {},
     "output_type": "execute_result"
    }
   ],
   "source": [
    "cm"
   ]
  },
  {
   "cell_type": "code",
   "execution_count": 41,
   "id": "975e1ba5",
   "metadata": {},
   "outputs": [],
   "source": [
    "pred=pipeline.predict(x_[:500])"
   ]
  },
  {
   "cell_type": "code",
   "execution_count": 42,
   "id": "35bc5d71",
   "metadata": {},
   "outputs": [
    {
     "name": "stdout",
     "output_type": "stream",
     "text": [
      "[[279  70]\n",
      " [ 78  73]]\n"
     ]
    }
   ],
   "source": [
    "cmm=confusion_matrix(y_[:500],pred)\n",
    "print(cmm)"
   ]
  },
  {
   "cell_type": "code",
   "execution_count": 43,
   "id": "2186cab4",
   "metadata": {
    "scrolled": true
   },
   "outputs": [
    {
     "name": "stdout",
     "output_type": "stream",
     "text": [
      "              precision    recall  f1-score   support\n",
      "\n",
      "           0       0.90      0.79      0.84      1209\n",
      "           1       0.81      0.91      0.86      1193\n",
      "\n",
      "    accuracy                           0.85      2402\n",
      "   macro avg       0.85      0.85      0.85      2402\n",
      "weighted avg       0.85      0.85      0.85      2402\n",
      "\n"
     ]
    }
   ],
   "source": [
    "print(classification_report(y_test,y_predicted))"
   ]
  },
  {
   "cell_type": "code",
   "execution_count": 44,
   "id": "46948bf0",
   "metadata": {},
   "outputs": [],
   "source": [
    "# def predictProbab(params):\n",
    "#     scaledlst=[]\n",
    "#     for feature in params:\n",
    "#         scaledlst.append(feature)\n",
    "#     scaledValues=np.array(scaledlst)\n",
    "#     vals=scale.fit_transform([scaledValues])\n",
    "#     output=knn.predict_proba(vals)\n",
    "#     return output\n",
    "        \n",
    "        "
   ]
  },
  {
   "cell_type": "code",
   "execution_count": 45,
   "id": "10083d11",
   "metadata": {},
   "outputs": [],
   "source": [
    "# def predictProbab(age,hypertension,heart_disease,avg_glucose_lvl,bmi,isMale,isOther,isMarried,neverWorked,privateWork,selfEmp,childerWork,isUrban,formerlySmokes,neverSmoke,smoke):\n",
    "    "
   ]
  },
  {
   "cell_type": "code",
   "execution_count": 46,
   "id": "3346b6a1",
   "metadata": {},
   "outputs": [],
   "source": [
    "# para=[61,1,1,241,26,1,0,1,1,0,0,0,0,1,1,1]"
   ]
  },
  {
   "cell_type": "code",
   "execution_count": 47,
   "id": "d4d3422f",
   "metadata": {},
   "outputs": [],
   "source": [
    "# print(predictProbab(para))"
   ]
  },
  {
   "cell_type": "code",
   "execution_count": 48,
   "id": "0920cd74",
   "metadata": {},
   "outputs": [],
   "source": [
    "# def predictOP(params):\n",
    "#     scaledlst=[]\n",
    "#     for feature in params:\n",
    "#         scaledlst.append(feature)\n",
    "#     scaledValues=np.array(scaledlst)\n",
    "#     print(scaledValues)\n",
    "#     vals=scale.fit_transform([scaledValues])\n",
    "#     print(vals)\n",
    "#     output=knn.predict(vals)\n",
    "#     return output\n",
    "        \n",
    "        "
   ]
  },
  {
   "cell_type": "code",
   "execution_count": 49,
   "id": "a74b7d38",
   "metadata": {},
   "outputs": [],
   "source": [
    "# print(predictOP(para))"
   ]
  },
  {
   "cell_type": "code",
   "execution_count": 50,
   "id": "044b8d8c",
   "metadata": {},
   "outputs": [],
   "source": [
    "# model=open(\"model.pkl\",\"wb\")\n",
    "# pickle.dump(pipeline,model)\n",
    "# model.close()"
   ]
  },
  {
   "cell_type": "code",
   "execution_count": 51,
   "id": "ea66e9aa",
   "metadata": {},
   "outputs": [],
   "source": [
    "model=pickle.load(open(\"model.pkl\",\"rb\"))"
   ]
  },
  {
   "cell_type": "code",
   "execution_count": 67,
   "id": "ea3ffbfc",
   "metadata": {},
   "outputs": [],
   "source": [
    "pred=model.predict(x_[:1])"
   ]
  },
  {
   "cell_type": "code",
   "execution_count": 68,
   "id": "9a591fa5",
   "metadata": {},
   "outputs": [
    {
     "data": {
      "text/plain": [
       "array([[1]])"
      ]
     },
     "execution_count": 68,
     "metadata": {},
     "output_type": "execute_result"
    }
   ],
   "source": [
    "confusion_matrix(y_[:1],pred)"
   ]
  },
  {
   "cell_type": "code",
   "execution_count": 70,
   "id": "832caf65",
   "metadata": {},
   "outputs": [
    {
     "name": "stdout",
     "output_type": "stream",
     "text": [
      "              precision    recall  f1-score   support\n",
      "\n",
      "           1       1.00      1.00      1.00         1\n",
      "\n",
      "    accuracy                           1.00         1\n",
      "   macro avg       1.00      1.00      1.00         1\n",
      "weighted avg       1.00      1.00      1.00         1\n",
      "\n"
     ]
    }
   ],
   "source": [
    "print(classification_report(y_[:1],pred))"
   ]
  },
  {
   "cell_type": "code",
   "execution_count": null,
   "id": "69e75d32",
   "metadata": {},
   "outputs": [],
   "source": []
  }
 ],
 "metadata": {
  "kernelspec": {
   "display_name": "Python 3",
   "language": "python",
   "name": "python3"
  },
  "language_info": {
   "codemirror_mode": {
    "name": "ipython",
    "version": 3
   },
   "file_extension": ".py",
   "mimetype": "text/x-python",
   "name": "python",
   "nbconvert_exporter": "python",
   "pygments_lexer": "ipython3",
   "version": "3.8.8"
  }
 },
 "nbformat": 4,
 "nbformat_minor": 5
}
