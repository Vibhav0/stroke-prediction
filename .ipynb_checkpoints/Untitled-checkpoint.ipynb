{
 "cells": [
  {
   "cell_type": "markdown",
   "id": "9410acb2",
   "metadata": {},
   "source": [
    "1) id: unique identifier\n",
    "<br>\n",
    "2) gender: \"Male\", \"Female\" or \"Other\"\n",
    "<br>\n",
    "3) age: age of the patient\n",
    "<br>\n",
    "4) hypertension: 0 if the patient doesn't have hypertension, 1 if the patient has hypertension\n",
    "<br>\n",
    "5) heart_disease: 0 if the patient doesn't have any heart diseases, 1 if the patient has a heart disease\n",
    "<br>\n",
    "6) ever_married: \"No\" or \"Yes\"\n",
    "<br>\n",
    "7) work_type: \"children\", \"Govt_jov\", \"Never_worked\", \"Private\" or \"Self-employed\"\n",
    "<br>\n",
    "8) Residence_type: \"Rural\" or \"Urban\"\n",
    "<br>\n",
    "9) avg_glucose_level: average glucose level in blood\n",
    "<br>\n",
    "10) bmi: body mass index\n",
    "<br>\n",
    "11) smoking_status: \"formerly smoked\", \"never smoked\", \"smokes\" or \"Unknown\"*\n",
    "<br>\n",
    "12) stroke: 1 if the patient had a stroke or 0 if not\n",
    "<br>\n",
    "*<b>Note: \"Unknown\" in smoking_status means that the information is unavailable for this patient</b>"
   ]
  },
  {
   "cell_type": "code",
   "execution_count": 1,
   "id": "f104ffb4",
   "metadata": {},
   "outputs": [],
   "source": [
    "import pandas as pd \n",
    "import numpy as np\n",
    "from sklearn.model_selection import train_test_split\n",
    "import seaborn as sns\n",
    "sns.set_style(\"darkgrid\")\n",
    "import dtale\n",
    "import matplotlib.pyplot as plt\n",
    "%matplotlib inline"
   ]
  },
  {
   "cell_type": "code",
   "execution_count": 16,
   "id": "f6941e34",
   "metadata": {},
   "outputs": [
    {
     "name": "stdout",
     "output_type": "stream",
     "text": [
      "\u001b[31mERROR: Could not find a version that satisfies the requirement tkFont\u001b[0m\r\n",
      "\u001b[31mERROR: No matching distribution found for tkFont\u001b[0m\r\n"
     ]
    }
   ],
   "source": [
    "!pip install tkFont"
   ]
  },
  {
   "cell_type": "code",
   "execution_count": 2,
   "id": "a694839d",
   "metadata": {},
   "outputs": [
    {
     "data": {
      "text/plain": [
       "(5110, 11)"
      ]
     },
     "execution_count": 2,
     "metadata": {},
     "output_type": "execute_result"
    }
   ],
   "source": [
    "dataset=pd.read_csv(\"healthcare-dataset-stroke-data.csv\")\n",
    "dataset.drop(\"id\",inplace=True,axis=1)\n",
    "dataset.head()\n",
    "dataset.shape"
   ]
  },
  {
   "cell_type": "markdown",
   "id": "ff7b1ed8",
   "metadata": {},
   "source": [
    "from sklearn.model_selection import train_test_split\n",
    "x_train,x_test,y_train,y_test=train_test_split(x,y,test_size=0.2,random_state=42)"
   ]
  },
  {
   "cell_type": "code",
   "execution_count": 3,
   "id": "7bd4f557",
   "metadata": {
    "scrolled": true
   },
   "outputs": [
    {
     "name": "stdout",
     "output_type": "stream",
     "text": [
      "<class 'pandas.core.frame.DataFrame'>\n",
      "RangeIndex: 5110 entries, 0 to 5109\n",
      "Data columns (total 11 columns):\n",
      " #   Column             Non-Null Count  Dtype  \n",
      "---  ------             --------------  -----  \n",
      " 0   gender             5110 non-null   object \n",
      " 1   age                5110 non-null   float64\n",
      " 2   hypertension       5110 non-null   int64  \n",
      " 3   heart_disease      5110 non-null   int64  \n",
      " 4   ever_married       5110 non-null   object \n",
      " 5   work_type          5110 non-null   object \n",
      " 6   Residence_type     5110 non-null   object \n",
      " 7   avg_glucose_level  5110 non-null   float64\n",
      " 8   bmi                4909 non-null   float64\n",
      " 9   smoking_status     5110 non-null   object \n",
      " 10  stroke             5110 non-null   int64  \n",
      "dtypes: float64(3), int64(3), object(5)\n",
      "memory usage: 439.3+ KB\n"
     ]
    }
   ],
   "source": [
    "dataset.info()"
   ]
  },
  {
   "cell_type": "markdown",
   "id": "eddaf4f2",
   "metadata": {},
   "source": [
    "<h3>As we can see only bmi has null values</h3>"
   ]
  },
  {
   "cell_type": "markdown",
   "id": "8dafdcdb",
   "metadata": {},
   "source": [
    "## Understanding classes and their counts in categorical features"
   ]
  },
  {
   "cell_type": "code",
   "execution_count": 4,
   "id": "b48a49e7",
   "metadata": {
    "scrolled": true
   },
   "outputs": [
    {
     "data": {
      "text/plain": [
       "Female    2994\n",
       "Male      2115\n",
       "Other        1\n",
       "Name: gender, dtype: int64"
      ]
     },
     "execution_count": 4,
     "metadata": {},
     "output_type": "execute_result"
    }
   ],
   "source": [
    "dataset[\"gender\"].value_counts()"
   ]
  },
  {
   "cell_type": "code",
   "execution_count": 5,
   "id": "33dd3c4a",
   "metadata": {
    "scrolled": true
   },
   "outputs": [
    {
     "data": {
      "text/plain": [
       "Yes    3353\n",
       "No     1757\n",
       "Name: ever_married, dtype: int64"
      ]
     },
     "execution_count": 5,
     "metadata": {},
     "output_type": "execute_result"
    }
   ],
   "source": [
    "dataset[\"ever_married\"].value_counts()"
   ]
  },
  {
   "cell_type": "code",
   "execution_count": 6,
   "id": "fc631710",
   "metadata": {},
   "outputs": [
    {
     "data": {
      "text/plain": [
       "Private          2925\n",
       "Self-employed     819\n",
       "children          687\n",
       "Govt_job          657\n",
       "Never_worked       22\n",
       "Name: work_type, dtype: int64"
      ]
     },
     "execution_count": 6,
     "metadata": {},
     "output_type": "execute_result"
    }
   ],
   "source": [
    "dataset[\"work_type\"].value_counts()"
   ]
  },
  {
   "cell_type": "code",
   "execution_count": 7,
   "id": "e73b42be",
   "metadata": {},
   "outputs": [
    {
     "data": {
      "text/plain": [
       "0    4861\n",
       "1     249\n",
       "Name: stroke, dtype: int64"
      ]
     },
     "execution_count": 7,
     "metadata": {},
     "output_type": "execute_result"
    }
   ],
   "source": [
    "dataset[\"stroke\"].value_counts() #This will create imbalance later"
   ]
  },
  {
   "cell_type": "code",
   "execution_count": 8,
   "id": "e349f087",
   "metadata": {},
   "outputs": [
    {
     "data": {
      "text/plain": [
       "never smoked       1892\n",
       "Unknown            1544\n",
       "formerly smoked     885\n",
       "smokes              789\n",
       "Name: smoking_status, dtype: int64"
      ]
     },
     "execution_count": 8,
     "metadata": {},
     "output_type": "execute_result"
    }
   ],
   "source": [
    "dataset[\"smoking_status\"].value_counts() #unkown "
   ]
  },
  {
   "cell_type": "code",
   "execution_count": 9,
   "id": "c4d2bbf5",
   "metadata": {},
   "outputs": [
    {
     "data": {
      "text/plain": [
       "Urban    2596\n",
       "Rural    2514\n",
       "Name: Residence_type, dtype: int64"
      ]
     },
     "execution_count": 9,
     "metadata": {},
     "output_type": "execute_result"
    }
   ],
   "source": [
    "dataset[\"Residence_type\"].value_counts()"
   ]
  },
  {
   "cell_type": "code",
   "execution_count": 10,
   "id": "6f1eeb98",
   "metadata": {
    "scrolled": false
   },
   "outputs": [
    {
     "data": {
      "text/plain": [
       "3295     0.08\n",
       "1614     0.08\n",
       "3618     0.16\n",
       "4021     0.16\n",
       "3968     0.16\n",
       "        ...  \n",
       "4590    82.00\n",
       "4094    82.00\n",
       "2341    82.00\n",
       "4716    82.00\n",
       "187     82.00\n",
       "Name: age, Length: 5110, dtype: float64"
      ]
     },
     "execution_count": 10,
     "metadata": {},
     "output_type": "execute_result"
    }
   ],
   "source": [
    "dataset[\"age\"].sort_values()"
   ]
  },
  {
   "cell_type": "markdown",
   "id": "bf84394c",
   "metadata": {},
   "source": [
    "<h3>As we can see there are children below 2 which have floating values</h3>"
   ]
  },
  {
   "cell_type": "markdown",
   "id": "1a0fa11b",
   "metadata": {},
   "source": [
    "<h2>Lets check for some outliers </h2>"
   ]
  },
  {
   "cell_type": "code",
   "execution_count": 11,
   "id": "91bbb748",
   "metadata": {},
   "outputs": [],
   "source": [
    "numerical_features=[feature for feature in dataset.columns if dataset[feature].dtypes!=\"O\"]"
   ]
  },
  {
   "cell_type": "code",
   "execution_count": 12,
   "id": "9f3fcb1f",
   "metadata": {},
   "outputs": [
    {
     "data": {
      "text/plain": [
       "['age', 'hypertension', 'heart_disease', 'avg_glucose_level', 'bmi', 'stroke']"
      ]
     },
     "execution_count": 12,
     "metadata": {},
     "output_type": "execute_result"
    }
   ],
   "source": [
    "##lets see the numerical features in the data set\n",
    "numerical_features"
   ]
  },
  {
   "cell_type": "code",
   "execution_count": 21,
   "id": "1c4ae20d",
   "metadata": {},
   "outputs": [
    {
     "data": {
      "image/png": "[encoded data removed]",
      "text/plain": [
       "<Figure size 432x288 with 1 Axes>"
      ]
     },
     "metadata": {
      "needs_background": "light"
     },
     "output_type": "display_data"
    },
    {
     "data": {
      "image/png": "[encoded data removed]",
      "text/plain": [
       "<Figure size 432x288 with 1 Axes>"
      ]
     },
     "metadata": {
      "needs_background": "light"
     },
     "output_type": "display_data"
    },
    {
     "data": {
      "image/png": "[encoded data removed]",
      "text/plain": [
       "<Figure size 432x288 with 1 Axes>"
      ]
     },
     "metadata": {
      "needs_background": "light"
     },
     "output_type": "display_data"
    },
    {
     "data": {
      "image/png": "[encoded data removed]",
      "text/plain": [
       "<Figure size 432x288 with 1 Axes>"
      ]
     },
     "metadata": {
      "needs_background": "light"
     },
     "output_type": "display_data"
    },
    {
     "data": {
      "image/png": "[encoded data removed]",
      "text/plain": [
       "<Figure size 432x288 with 1 Axes>"
      ]
     },
     "metadata": {
      "needs_background": "light"
     },
     "output_type": "display_data"
    },
    {
     "data": {
      "image/png": "[encoded data removed]",
      "text/plain": [
       "<Figure size 432x288 with 1 Axes>"
      ]
     },
     "metadata": {
      "needs_background": "light"
     },
     "output_type": "display_data"
    }
   ],
   "source": [
    "for feature in numerical_features:\n",
    "    plt.plot()\n",
    "    plt.title(feature)\n",
    "    sns.boxplot(data=dataset[feature]).set_title(\n",
    "  feature, fontdict= { 'fontsize': 20, 'horizontalalignment': 'center'})\n",
    "    plt.show()"
   ]
  },
  {
   "cell_type": "markdown",
   "id": "6a2cb2da",
   "metadata": {},
   "source": [
    "<h3>As we can see there are outliers in avg_glucose_lvl,bmi and there is also a problem in age that it has some floting values below 2</h3>"
   ]
  },
  {
   "cell_type": "code",
   "execution_count": null,
   "id": "bdce931d",
   "metadata": {},
   "outputs": [],
   "source": []
  }
 ],
 "metadata": {
  "kernelspec": {
   "display_name": "Python 3",
   "language": "python",
   "name": "python3"
  },
  "language_info": {
   "codemirror_mode": {
    "name": "ipython",
    "version": 3
   },
   "file_extension": ".py",
   "mimetype": "text/x-python",
   "name": "python",
   "nbconvert_exporter": "python",
   "pygments_lexer": "ipython3",
   "version": "3.8.8"
  }
 },
 "nbformat": 4,
 "nbformat_minor": 5
}
